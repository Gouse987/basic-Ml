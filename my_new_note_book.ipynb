{
  "nbformat": 4,
  "nbformat_minor": 0,
  "metadata": {
    "colab": {
      "name": "my new note book",
      "provenance": [],
      "authorship_tag": "ABX9TyMf/icqcKFKxmRbkqhMXOoi",
      "include_colab_link": true
    },
    "kernelspec": {
      "name": "python3",
      "display_name": "Python 3"
    },
    "language_info": {
      "name": "python"
    }
  },
  "cells": [
    {
      "cell_type": "markdown",
      "metadata": {
        "id": "view-in-github",
        "colab_type": "text"
      },
      "source": [
        "<a href=\"https://colab.research.google.com/github/Gouse987/basic-Ml/blob/main/my_new_note_book.ipynb\" target=\"_parent\"><img src=\"https://colab.research.google.com/assets/colab-badge.svg\" alt=\"Open In Colab\"/></a>"
      ]
    },
    {
      "cell_type": "code",
      "metadata": {
        "id": "HgkXVSgD-DA8"
      },
      "source": [
        "PYTHON PROJECT EVEN OR ODD"
      ],
      "execution_count": null,
      "outputs": []
    },
    {
      "cell_type": "code",
      "metadata": {
        "colab": {
          "base_uri": "https://localhost:8080/"
        },
        "id": "r_hR_AJT-ddS",
        "outputId": "8bf05635-8ef3-4657-f89b-180f05c27a30"
      },
      "source": [
        "N=int(input())\n",
        "if (N%2==0):\n",
        "   print(\" Even\")\n",
        "else:\n",
        "   print (\" Odd\")"
      ],
      "execution_count": null,
      "outputs": [
        {
          "output_type": "stream",
          "name": "stdout",
          "text": [
            "2\n",
            " Even\n"
          ]
        }
      ]
    },
    {
      "cell_type": "markdown",
      "metadata": {
        "id": "jlpvaVTq-gLL"
      },
      "source": [
        "PYTHON PROGRAM FOR FINDING TWO NUMBER"
      ]
    },
    {
      "cell_type": "code",
      "metadata": {
        "colab": {
          "base_uri": "https://localhost:8080/"
        },
        "id": "S_QZMA6u-ir6",
        "outputId": "700468fc-872e-41ff-88bd-c88b9afed4b9"
      },
      "source": [
        "a=int(input(\"enter a:\")) \n",
        "b=int(input(\"enter b:\")) \n",
        "if (a>b):\n",
        "   print(\"max is a\")\n",
        "else:\n",
        "   print(\"max is b\")"
      ],
      "execution_count": null,
      "outputs": [
        {
          "output_type": "stream",
          "name": "stdout",
          "text": [
            "enter a:5\n",
            "enter b:1\n",
            "max is a\n"
          ]
        }
      ]
    },
    {
      "cell_type": "markdown",
      "metadata": {
        "id": "ulrBtu8I-mDX"
      },
      "source": [
        "PYTHON PROGRAM FOR FINTING LIPR AND NONLIPEPHTHON"
      ]
    },
    {
      "cell_type": "code",
      "metadata": {
        "colab": {
          "base_uri": "https://localhost:8080/"
        },
        "id": "6_XC9RdN-q6T",
        "outputId": "4ea335ff-6d3c-43f6-f99a-20e08a4a55c1"
      },
      "source": [
        "y=int(input(\"enter a number:\")) \n",
        "if (y%4==0 and y%100!=0) or (y%400==0):\n",
        "   print(\"leap year\") \n",
        "else: \n",
        "   print(\"non leap year\")"
      ],
      "execution_count": null,
      "outputs": [
        {
          "output_type": "stream",
          "name": "stdout",
          "text": [
            "enter a number:2002\n",
            "non leap year\n"
          ]
        }
      ]
    }
  ]
}